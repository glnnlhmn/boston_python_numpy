{
 "cells": [
  {
   "cell_type": "markdown",
   "id": "22da1702",
   "metadata": {},
   "source": [
    "# NumPy - For Beginners\n",
    "\n",
    "<img src=\"images/python-boston-sq.png\" style=\"width:75px;height:75px;\" align=\"left\">\n",
    "\n",
    "Boston Python User Group<br></br>\n",
    "<https://about.bostonpython.com/>\n",
    "<br></br><br></br><br></br>\n",
    "_Teach to Learn Data Science Study Group series_.\n"
   ]
  },
  {
   "cell_type": "markdown",
   "id": "86462dd2",
   "metadata": {},
   "source": [
    "## 1. Setup Enviroment\n",
    "\n",
    "**NumPy** is normally imported with the name **np**<br>\n",
    "**random** is being imported to allow for data creation in the presentation<br>\n"
   ]
  },
  {
   "cell_type": "code",
   "execution_count": 1,
   "id": "7a8ff6bb",
   "metadata": {},
   "outputs": [],
   "source": [
    "import numpy as np\n",
    "from numpy import random"
   ]
  },
  {
   "cell_type": "markdown",
   "id": "4829ba4b",
   "metadata": {},
   "source": [
    "## 2. Creating Arrays (Vectors and Matrix)\n",
    "---\n",
    "#### Vectors\n",
    "\n",
    "**a.** Start creating a vector with small data sets.Python lists are created and and used by [numpy.array](https://numpy.org/doc/stable/reference/generated/numpy.array.html) to convert to an Ndarrary.\n"
   ]
  },
  {
   "cell_type": "code",
   "execution_count": null,
   "id": "e0ed1c4a",
   "metadata": {},
   "outputs": [],
   "source": [
    "# Create 1-D Arrays from python lists\n",
    "list_1 = [1, 2, 3, 5, 7, 11]\n",
    "list_2 = [0, 1, 1, 2, 3, 5]\n",
    "\n",
    "# Convert list to array specifing data type\n",
    "np_arr_1 = np.array(list_1, dtype=np.int8)\n",
    "np_arr_2 = np.array(list_2, dtype=np.int8)  \n",
    "\n",
    "print(\"np_arr_1 - Array created using passed list: \",np_arr_1)\n",
    "print(\"np_arr_2 - Array created using passed list: \",np_arr_2)\n"
   ]
  },
  {
   "cell_type": "markdown",
   "id": "5ca2e575",
   "metadata": {},
   "source": [
    "**b.** Now convert the same lists to array using the default data type. "
   ]
  },
  {
   "cell_type": "code",
   "execution_count": null,
   "id": "14380aeb",
   "metadata": {},
   "outputs": [],
   "source": [
    "# Convert list to array and accept default data type\n",
    "np_arr_1_default = np.array(list_1)\n",
    "np_arr_2_default = np.array(list_2)\n",
    "\n",
    "print(\"np_arr_1_default - 1-D Array created using passed list: \",np_arr_1_default)\n",
    "print(\"np_arr_2_default - 1-D Array created using passed list: \",np_arr_2_default)\n"
   ]
  },
  {
   "cell_type": "markdown",
   "id": "46560c8f",
   "metadata": {},
   "source": [
    "**c.** Check the data types"
   ]
  },
  {
   "cell_type": "code",
   "execution_count": null,
   "id": "55226058",
   "metadata": {},
   "outputs": [],
   "source": [
    "# Examine the data type\n",
    "np_arr_1.dtype\n",
    "# type(np_arr_1_default)"
   ]
  },
  {
   "cell_type": "markdown",
   "id": "b5eeb02b",
   "metadata": {},
   "source": [
    "---\n",
    "#### Matrix\n",
    "\n",
    "**a.** Start creating a matrix with small data sets. Python lists are created and and used by numpy.array to convert to an Ndarrary."
   ]
  },
  {
   "cell_type": "code",
   "execution_count": null,
   "id": "a84c701f",
   "metadata": {},
   "outputs": [],
   "source": [
    "# Setup nested python lists\n",
    "list_1_2d = [[1, 2, 3, 5, 7, 11],[13,17,19,23,29,31]]\n",
    "list_2_2d = [[0, 1, 1, 2, 3, 5], [8, 13, 21, 34, 55, 89]]\n",
    "\n",
    "\n",
    "# Convert list to array default data type\n",
    "np_arr_1_2d = np.array(list_1_2d)\n",
    "np_arr_2_2d = np.array(list_2_2d)  \n",
    "\n",
    "print(\"np_arr_1_2d - 2-D Array created using passed list: \", np_arr_1_2d)\n",
    "print(\"np_arr_2_2d - 2-D Array created using passed list: \",np_arr_2_2d)"
   ]
  },
  {
   "cell_type": "markdown",
   "id": "57861d9c",
   "metadata": {},
   "source": [
    "#### Higher level Ndarray"
   ]
  },
  {
   "cell_type": "code",
   "execution_count": null,
   "id": "a5ea47c2",
   "metadata": {},
   "outputs": [],
   "source": [
    "list_n_d = [[[1, 2], [3, 5], [7, 11]],[[13,17],[19,23],[29,31]]]\n",
    "        \n",
    "np_arr_n_d = np.array(list_n_d)\n",
    "             \n",
    "np_arr_n_d\n",
    "            "
   ]
  },
  {
   "cell_type": "markdown",
   "id": "f55cdd5e",
   "metadata": {},
   "source": [
    "### 3. Examine the Numpy Array\n",
    "\n",
    "a.  Check the [size](https://numpy.org/doc/stable/reference/generated/numpy.ndarray.size.html?highlight=size)"
   ]
  },
  {
   "cell_type": "code",
   "execution_count": null,
   "id": "d2c77ae1",
   "metadata": {},
   "outputs": [],
   "source": [
    "# np_arr_1.size\n",
    "np_arr_1_2d.size\n",
    "# np_arr_n_d.size"
   ]
  },
  {
   "cell_type": "markdown",
   "id": "3221402f",
   "metadata": {},
   "source": [
    "*Notes*\n",
    "\n",
    "a.size returns a standard arbitrary precision Python integer. This may not be the case with other methods of obtaining the same value (like the suggested np.prod(a.shape), which returns an instance of np.int_), and may be relevant if the value is used further in calculations that may overflow a fixed size integer type."
   ]
  },
  {
   "cell_type": "code",
   "execution_count": null,
   "id": "0a012d24",
   "metadata": {},
   "outputs": [],
   "source": [
    "np.prod(np_arr_1_2d.shape)"
   ]
  },
  {
   "cell_type": "markdown",
   "id": "cecfec8b",
   "metadata": {},
   "source": [
    "b. Check the [shape](https://numpy.org/doc/stable/reference/generated/numpy.shape.html?highlight=shape)\n",
    "\n",
    "will display a tuple of integers that indicate the number of elements stored along each dimension of the array. If, for example, you have a 2-D array with 2 rows and 3 columns, the shape of your array is (2, 3)."
   ]
  },
  {
   "cell_type": "code",
   "execution_count": null,
   "id": "8ab1b2db",
   "metadata": {},
   "outputs": [],
   "source": [
    "# np_arr_1.shape\n",
    "# np_arr_1_2d.shape\n",
    "np_arr_n_d.shape"
   ]
  },
  {
   "cell_type": "markdown",
   "id": "f3063322",
   "metadata": {},
   "source": [
    "c. Check the number of demensions with [ndim](https://numpy.org/doc/stable/reference/generated/numpy.ndarray.ndim.html)\n",
    "\n",
    "**ndim** will tell you the number of axes, or dimensions, of the array."
   ]
  },
  {
   "cell_type": "code",
   "execution_count": null,
   "id": "b939a5dd",
   "metadata": {},
   "outputs": [],
   "source": [
    "# np_arr_1.ndim\n",
    "# np_arr_1_2d.ndim\n",
    "np_arr_n_d.ndim"
   ]
  },
  {
   "cell_type": "markdown",
   "id": "ce19fbeb",
   "metadata": {},
   "source": [
    "### 4. Changing the shape of an Ndarray\n",
    "\n",
    "a. Use the [shape]() method to rearrange"
   ]
  },
  {
   "cell_type": "code",
   "execution_count": null,
   "id": "fc3dba4b",
   "metadata": {},
   "outputs": [],
   "source": [
    "np_arr_1_2d"
   ]
  },
  {
   "cell_type": "code",
   "execution_count": null,
   "id": "aebad1db",
   "metadata": {},
   "outputs": [],
   "source": [
    "np_arr_1_2d.reshape(12,1)\n",
    "# np_arr_1_2d.reshape(4,3)\n",
    "# np_arr_1_2d.reshape(2,2,3)\n",
    "# np_arr_1_2d.reshape(12,4)"
   ]
  },
  {
   "cell_type": "markdown",
   "id": "c774839b",
   "metadata": {},
   "source": [
    "*Note* Can some power when you combine the reshape with an automatic fill method. \n",
    "\n",
    "### 5. Automatic Popluation\n",
    "\n",
    "a. Using [numpy.arange](https://numpy.org/doc/stable/reference/generated/numpy.arange.html?highlight=arange#numpy.arange)\n",
    "\n",
    "    numpy.arange([start, ]stop, [step, ]dtype=None, *, like=None)\n",
    "    \n",
    "returns an Ndarrary "
   ]
  },
  {
   "cell_type": "code",
   "execution_count": null,
   "id": "020adbed",
   "metadata": {},
   "outputs": [],
   "source": [
    "np.arange(6)  # If only one parameter it is consider to be the stop\n"
   ]
  },
  {
   "cell_type": "code",
   "execution_count": null,
   "id": "5205dfb5",
   "metadata": {},
   "outputs": [],
   "source": [
    "np.arange(6, 14) # Work just like range includes lower but not upper\n",
    "                 # It should be noted that if you use a float data type the last value \n",
    "                 # may be above the stop"
   ]
  },
  {
   "cell_type": "code",
   "execution_count": null,
   "id": "3c3cfe3f",
   "metadata": {},
   "outputs": [],
   "source": [
    "np.arange(1, 14, 2)"
   ]
  },
  {
   "cell_type": "markdown",
   "id": "84e98c1d",
   "metadata": {},
   "source": [
    "b. Using numpy.arange to create a multidimensional array"
   ]
  },
  {
   "cell_type": "code",
   "execution_count": null,
   "id": "cd528f71",
   "metadata": {
    "scrolled": true
   },
   "outputs": [],
   "source": [
    "np.arange(100).reshape(5,20)"
   ]
  },
  {
   "cell_type": "markdown",
   "id": "5f32a478",
   "metadata": {},
   "source": [
    "c. Filling arrays with 0, 1 or other numbers"
   ]
  },
  {
   "cell_type": "code",
   "execution_count": null,
   "id": "7366a365",
   "metadata": {},
   "outputs": [],
   "source": [
    "# Creating a one-dimensional array of integer type\n",
    "a = np.zeros(6, dtype=int)\n",
    "print(\"Creating an array with all values 0\")\n",
    "a"
   ]
  },
  {
   "cell_type": "code",
   "execution_count": null,
   "id": "7aa4898f",
   "metadata": {},
   "outputs": [],
   "source": [
    "# Creating an array filled with 1\n",
    "a = np.ones(12)\n",
    "print(\"Creating an array with all values 1\")\n",
    "print(a)\n",
    "print(\"Notice this created floats by default\")\n"
   ]
  },
  {
   "cell_type": "code",
   "execution_count": null,
   "id": "141c6504",
   "metadata": {},
   "outputs": [],
   "source": [
    "# Creating a one-dimensional array with value as 12\n",
    "a = np.full(8, 42)\n",
    "print(\"Creating an array with all values 12\")\n",
    "a"
   ]
  },
  {
   "cell_type": "markdown",
   "id": "dc670585",
   "metadata": {},
   "source": [
    "d. Creating evenly space values with [linspace](https://numpy.org/doc/stable/reference/generated/numpy.linspace.html?highlight=linspace#numpy.linspace)"
   ]
  },
  {
   "cell_type": "code",
   "execution_count": null,
   "id": "c08a0db9",
   "metadata": {},
   "outputs": [],
   "source": [
    "# Creating an evenly spaced array with five numbers within interval 2 to 3\n",
    "np.linspace(2.0, 3.0, num=5)\n",
    "# np.linspace(2.0, 3.0, num=5, endpoint=False)  # Exclude endpoint"
   ]
  },
  {
   "cell_type": "markdown",
   "id": "5b1732a7",
   "metadata": {},
   "source": [
    "e. Using Random numbers"
   ]
  },
  {
   "cell_type": "code",
   "execution_count": null,
   "id": "db08aa2e",
   "metadata": {},
   "outputs": [],
   "source": [
    "np.random.seed(123789)  # Ensuring I always get the same random number for training\n",
    "\n",
    "# Generating a random sample\n",
    "np.random.randn(6)"
   ]
  },
  {
   "cell_type": "code",
   "execution_count": null,
   "id": "91ef2ff8",
   "metadata": {},
   "outputs": [],
   "source": [
    "# Generating a one-dimensional array with four random values\n",
    "np.random.rand(2,3)"
   ]
  },
  {
   "cell_type": "code",
   "execution_count": null,
   "id": "78c201ad",
   "metadata": {},
   "outputs": [],
   "source": [
    "# Generating a one-dimensional array with values between 3 and 9\n",
    "np.random.randint(3, 9, size=5)\n",
    "\n",
    "# np.random.random(3) # can also do randfloat\n"
   ]
  },
  {
   "cell_type": "markdown",
   "id": "3515c7cc",
   "metadata": {},
   "source": [
    "### 6. Indexing and Slicing\n",
    "\n",
    "a. Basics"
   ]
  },
  {
   "cell_type": "code",
   "execution_count": null,
   "id": "c1409304",
   "metadata": {},
   "outputs": [],
   "source": [
    "# np_arr_1.shape\n",
    "np_arr_1_2d\n",
    "# np_arr_n_d"
   ]
  },
  {
   "cell_type": "code",
   "execution_count": null,
   "id": "653380bf",
   "metadata": {},
   "outputs": [],
   "source": [
    "np_arr_1_2d[1]\n",
    "# np_arr_1_2d[0,3]\n",
    "# np_arr_1_2d[0][3]"
   ]
  },
  {
   "cell_type": "markdown",
   "id": "8636d207",
   "metadata": {},
   "source": [
    "b. More advanced"
   ]
  },
  {
   "cell_type": "code",
   "execution_count": null,
   "id": "2970cfeb",
   "metadata": {},
   "outputs": [],
   "source": [
    "x = np.arange(10)\n",
    "x[2:5]\n",
    "# x[:-7]\n",
    "# x[1:7:2]"
   ]
  },
  {
   "cell_type": "code",
   "execution_count": null,
   "id": "e1d4ecd7",
   "metadata": {},
   "outputs": [],
   "source": [
    "y = np.arange(35).reshape(5,7)\n",
    "y"
   ]
  },
  {
   "cell_type": "markdown",
   "id": "df26e6b9",
   "metadata": {},
   "source": [
    "**So what is happening here?**"
   ]
  },
  {
   "cell_type": "code",
   "execution_count": null,
   "id": "41c5bf85",
   "metadata": {},
   "outputs": [],
   "source": [
    "y[1:5:2,::3]  "
   ]
  },
  {
   "cell_type": "markdown",
   "id": "4af99d8a",
   "metadata": {},
   "source": [
    "#### Basic Math Tools\n",
    "\n",
    "#### SUM - Compairing Pure Python to NumPy"
   ]
  },
  {
   "cell_type": "code",
   "execution_count": null,
   "id": "d2436826",
   "metadata": {},
   "outputs": [],
   "source": [
    "# Combine using python code with for loop\n",
    "# While the performance difference is not substanial with a small data set \n",
    "# consider the issues associated with a list of 1,000,000 plus items. \n",
    "# 3 lines of code \n",
    "a=[]\n",
    "for i in range(len(list_1)):    \n",
    "    a.append(list_1[i] + list_2[i])\n",
    "    \n",
    "    \n",
    "print(\"Prepared using for loop:\")\n",
    "print(a)"
   ]
  },
  {
   "cell_type": "markdown",
   "id": "1ca4cdb1",
   "metadata": {},
   "source": [
    "#### Same process with Numpy arrary"
   ]
  },
  {
   "cell_type": "code",
   "execution_count": null,
   "id": "d9db48c8",
   "metadata": {},
   "outputs": [],
   "source": [
    "# Sum to numpy arrays\n",
    "# Single line of code very clean (and fast)\n",
    "sum_arrays = np_arr_1 + np_arr_2\n",
    "\n",
    "\n",
    "print(\"Prepared using NumPy 1-D Array:\")\n",
    "print(sum_arrays)"
   ]
  },
  {
   "cell_type": "code",
   "execution_count": null,
   "id": "b975d3a9",
   "metadata": {},
   "outputs": [],
   "source": [
    "np_arr_1 * np_arr_2\n",
    "# np_arr_1_2d * np_arr_2_2d\n"
   ]
  },
  {
   "cell_type": "code",
   "execution_count": null,
   "id": "bfc33207",
   "metadata": {},
   "outputs": [],
   "source": [
    "# Computing statistics\n",
    "np.mean(sum_arrays)\n",
    "np.average(sum_arrays)\n",
    "np.max(sum_arrays)\n",
    "np.min(sum_arrays)"
   ]
  },
  {
   "cell_type": "markdown",
   "id": "e399cef2",
   "metadata": {},
   "source": [
    "### 8. Probability example"
   ]
  },
  {
   "cell_type": "markdown",
   "id": "f63d3bae",
   "metadata": {},
   "source": [
    "Returns samples drawn from a binomial distribution with n trials and p probability of success where n is greater than 0 and p is in the interval of 0 and 1"
   ]
  },
  {
   "cell_type": "code",
   "execution_count": null,
   "id": "fe69ef7d",
   "metadata": {},
   "outputs": [],
   "source": [
    "# Number of trials, probability of each trial\n",
    "n, p = 1, .5\n",
    "\n",
    "# Flipping a coin 1 time for 100 times\n",
    "samples = np.random.binomial(n, p, 100)\n",
    "\n",
    "samples"
   ]
  },
  {
   "cell_type": "code",
   "execution_count": null,
   "id": "2c1fddf9",
   "metadata": {},
   "outputs": [],
   "source": []
  }
 ],
 "metadata": {
  "kernelspec": {
   "display_name": "Python 3",
   "language": "python",
   "name": "python3"
  },
  "language_info": {
   "codemirror_mode": {
    "name": "ipython",
    "version": 3
   },
   "file_extension": ".py",
   "mimetype": "text/x-python",
   "name": "python",
   "nbconvert_exporter": "python",
   "pygments_lexer": "ipython3",
   "version": "3.8.8"
  }
 },
 "nbformat": 4,
 "nbformat_minor": 5
}
